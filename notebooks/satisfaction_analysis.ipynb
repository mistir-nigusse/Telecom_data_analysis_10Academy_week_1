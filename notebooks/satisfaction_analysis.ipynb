{
 "cells": [
  {
   "cell_type": "code",
   "execution_count": 1,
   "metadata": {},
   "outputs": [],
   "source": [
    "%reload_ext autoreload\n",
    "%autoreload 2"
   ]
  },
  {
   "cell_type": "code",
   "execution_count": 2,
   "metadata": {},
   "outputs": [],
   "source": [
    "import os,sys\n",
    "import re\n",
    "import pandas as pd\n",
    "import matplotlib.pyplot as plt\n",
    "import seaborn as sns\n",
    "from sklearn.decomposition import PCA\n",
    "from sklearn.cluster import KMeans\n",
    "from sklearn.preprocessing import StandardScaler\n",
    "from sklearn.linear_model import LinearRegression\n",
    "from sklearn.model_selection import train_test_split\n",
    "from sklearn.metrics import mean_squared_error\n",
    "import numpy as np\n",
    "from sklearn.metrics.pairwise import euclidean_distances\n",
    "os.chdir('..')"
   ]
  },
  {
   "cell_type": "code",
   "execution_count": 3,
   "metadata": {},
   "outputs": [],
   "source": [
    "np.random.seed(42)\n",
    "num_users = 1000\n",
    "num_features = 5\n",
    "\n",
    "user_data = np.random.rand(num_users, num_features)"
   ]
  },
  {
   "cell_type": "code",
   "execution_count": 4,
   "metadata": {},
   "outputs": [],
   "source": [
    "num_clusters = 3\n",
    "engagement_centroids = np.random.rand(num_clusters, num_features)\n",
    "experience_centroids = np.random.rand(num_clusters, num_features)\n"
   ]
  },
  {
   "cell_type": "code",
   "execution_count": 5,
   "metadata": {},
   "outputs": [],
   "source": [
    "engagement_scores = euclidean_distances(user_data, engagement_centroids).min(axis=1)\n",
    "\n",
    "# Calculate Euclidean distance between each user and the worst experience cluster\n",
    "experience_scores = euclidean_distances(user_data, experience_centroids).min(axis=1)"
   ]
  },
  {
   "cell_type": "code",
   "execution_count": 6,
   "metadata": {},
   "outputs": [],
   "source": [
    "satisfaction_scores = (engagement_scores + experience_scores) / 2\n",
    "\n",
    "# Generate some sample user IDs for demonstration\n",
    "user_ids = ['user_' + str(i) for i in range(num_users)]\n",
    "\n",
    "# Combine the scores with user IDs\n",
    "satisfaction_df = pd.DataFrame({'MSISDN/Number': user_ids, \n",
    "                                 'Engagement Score': engagement_scores,\n",
    "                                 'Experience Score': experience_scores,\n",
    "                                 'Satisfaction Score': satisfaction_scores})\n",
    "\n",
    "# Report the top 10 satisfied customers\n",
    "top_10_satisfied_customers = satisfaction_df.nlargest(10, 'Satisfaction Score')"
   ]
  },
  {
   "cell_type": "code",
   "execution_count": 7,
   "metadata": {},
   "outputs": [],
   "source": [
    "\n",
    "# Generate some sample feature matrix X and target variable y for demonstration\n",
    "X = np.random.rand(num_users, num_features)\n",
    "y = satisfaction_scores  # Using satisfaction scores as the target variable\n",
    "\n",
    "# Split the data into training and testing sets\n",
    "X_train, X_test, y_train, y_test = train_test_split(X, y, test_size=0.2, random_state=42)\n",
    "\n",
    "# Initialize and fit the model\n",
    "model = LinearRegression()\n",
    "model.fit(X_train, y_train)\n",
    "\n",
    "# Make predictions\n",
    "y_pred = model.predict(X_test)\n",
    "\n",
    "# Calculate RMSE (Root Mean Squared Error)\n",
    "rmse = np.sqrt(mean_squared_error(y_test, y_pred))\n"
   ]
  },
  {
   "cell_type": "code",
   "execution_count": 8,
   "metadata": {},
   "outputs": [],
   "source": [
    "# Run k-means clustering (k=2) on the combined engagement and experience scores\n",
    "kmeans = KMeans(n_clusters=2)\n",
    "cluster_labels = kmeans.fit_predict(np.column_stack((engagement_scores, experience_scores)))\n"
   ]
  },
  {
   "cell_type": "code",
   "execution_count": 9,
   "metadata": {},
   "outputs": [],
   "source": [
    "# Add cluster labels to satisfaction_df\n",
    "satisfaction_df['Cluster'] = cluster_labels\n",
    "\n",
    "# Aggregate average satisfaction and experience score per cluster\n",
    "cluster_agg = satisfaction_df.groupby('Cluster').agg({'Satisfaction Score': 'mean', \n",
    "                                                       'Experience Score': 'mean'})\n"
   ]
  },
  {
   "cell_type": "code",
   "execution_count": 11,
   "metadata": {},
   "outputs": [
    {
     "name": "stdout",
     "output_type": "stream",
     "text": [
      "  MSISDN/Number  Engagement Score  Experience Score  Satisfaction Score  \\\n",
      "0        user_0          0.380709          0.990321            0.685515   \n",
      "1        user_1          0.568693          0.568865            0.568779   \n",
      "2        user_2          0.323694          1.238949            0.781321   \n",
      "3        user_3          0.461158          0.669634            0.565396   \n",
      "4        user_4          0.804472          0.565776            0.685124   \n",
      "5        user_5          0.815950          0.553378            0.684664   \n",
      "6        user_6          1.068066          0.634343            0.851205   \n",
      "7        user_7          0.910076          0.431707            0.670892   \n",
      "8        user_8          0.613600          0.522600            0.568100   \n",
      "9        user_9          0.641243          0.524904            0.583074   \n",
      "\n",
      "   Cluster  \n",
      "0        1  \n",
      "1        1  \n",
      "2        1  \n",
      "3        1  \n",
      "4        0  \n",
      "5        0  \n",
      "6        0  \n",
      "7        0  \n",
      "8        1  \n",
      "9        0  \n"
     ]
    }
   ],
   "source": [
    "from sqlalchemy import create_engine\n",
    "from src.config import DBConfig\n",
    "# Connect to MySQL database\n",
    "db_config = DBConfig.load()\n",
    "\n",
    "connection_string = f\"postgresql+psycopg2://{db_config['DATABASE_USER']}:{db_config['DATABASE_PASSWORD']}@{db_config['DATABASE_HOST']}:{db_config['DATABASE_PORT']}/{db_config['DATABASE_NAME']}\"\n",
    "engine = create_engine(connection_string)\n",
    "\n",
    "# Export satisfaction_df to MySQL database\n",
    "satisfaction_df.to_sql(name='user_satisfaction_scores', con=engine, if_exists='replace', index=False)\n",
    "\n",
    "# Example of select query output\n",
    "query = \"SELECT * FROM user_satisfaction_scores LIMIT 10\"\n",
    "select_output = pd.read_sql(query, con=engine)\n",
    "print(select_output)\n"
   ]
  }
 ],
 "metadata": {
  "kernelspec": {
   "display_name": "Python 3",
   "language": "python",
   "name": "python3"
  },
  "language_info": {
   "codemirror_mode": {
    "name": "ipython",
    "version": 3
   },
   "file_extension": ".py",
   "mimetype": "text/x-python",
   "name": "python",
   "nbconvert_exporter": "python",
   "pygments_lexer": "ipython3",
   "version": "3.12.2"
  }
 },
 "nbformat": 4,
 "nbformat_minor": 2
}

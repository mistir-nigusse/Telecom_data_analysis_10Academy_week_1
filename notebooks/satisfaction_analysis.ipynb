{
 "cells": [
  {
   "cell_type": "code",
   "execution_count": 1,
   "metadata": {},
   "outputs": [],
   "source": [
    "%reload_ext autoreload\n",
    "%autoreload 2"
   ]
  },
  {
   "cell_type": "code",
   "execution_count": 19,
   "metadata": {},
   "outputs": [],
   "source": [
    "import os,sys\n",
    "import re\n",
    "import pandas as pd\n",
    "import matplotlib.pyplot as plt\n",
    "import seaborn as sns\n",
    "from sklearn.cluster import KMeans\n",
    "from sklearn.preprocessing import StandardScaler\n",
    "\n",
    "from scipy.spatial.distance import euclidean\n",
    "import numpy as np\n",
    "\n",
    "os.chdir('..')"
   ]
  },
  {
   "cell_type": "code",
   "execution_count": 20,
   "metadata": {},
   "outputs": [],
   "source": [
    "from src.data_preprocess import DataPreProcessor\n",
    "from sqlalchemy import create_engine\n",
    "from src.config import DBConfig\n",
    "db_config = DBConfig.load()\n",
    "preprocessor = DataPreProcessor()\n",
    "\n",
    "df_raw = preprocessor.fetch_preprocessed_data()\n",
    "msisdn_to_exclude = 41882819545.02736\n",
    "df = df_raw[df_raw['MSISDN/Number'] != msisdn_to_exclude]"
   ]
  },
  {
   "cell_type": "markdown",
   "metadata": {},
   "source": []
  },
  {
   "cell_type": "code",
   "execution_count": 22,
   "metadata": {},
   "outputs": [],
   "source": [
    "engagement_metrics = df.groupby('MSISDN/Number').agg({'Bearer Id': 'count', \n",
    "                                                       'Dur. (ms)': 'sum', \n",
    "                                                       'Total DL (Bytes)': 'sum', \n",
    "                                                       'Total UL (Bytes)': 'sum'})\n",
    "engagement_metrics.columns = ['Sessions', 'Duration', 'Total_DL', 'Total_UL']  # Rename columns\n",
    "\n",
    "# Task 4: Aggregate experience metrics per customer\n",
    "experience_metrics = df.groupby('MSISDN/Number').agg({'TCP DL Retrans. Vol (Bytes)': 'mean',\n",
    "                                                       'Avg RTT DL (ms)': 'mean',\n",
    "                                                       'Avg Bearer TP DL (kbps)': 'mean'})\n"
   ]
  },
  {
   "cell_type": "code",
   "execution_count": 23,
   "metadata": {},
   "outputs": [
    {
     "name": "stdout",
     "output_type": "stream",
     "text": [
      "Top 10 Satisfied Customers:\n",
      "       MSISDN/Number  Satisfaction Score\n",
      "47983   3.366232e+10           85.657430\n",
      "13180   3.362578e+10           62.760557\n",
      "80249   3.368369e+10           49.756373\n",
      "6437    3.361489e+10           41.383235\n",
      "92923   3.376054e+10           39.355135\n",
      "13526   3.362632e+10           38.581799\n",
      "65118   3.366716e+10           36.576656\n",
      "41944   3.366087e+10           30.227219\n",
      "666     3.360313e+10           29.892219\n",
      "50281   3.366284e+10           29.716932\n"
     ]
    }
   ],
   "source": [
    "scaler_engagement = StandardScaler()\n",
    "engagement_normalized = scaler_engagement.fit_transform(engagement_metrics)\n",
    "\n",
    "# Task 4: Normalize experience metrics\n",
    "scaler_experience = StandardScaler()\n",
    "experience_normalized = scaler_experience.fit_transform(experience_metrics)\n",
    "\n",
    "# Task 3: K-means clustering for engagement\n",
    "kmeans_engagement = KMeans(n_clusters=3, random_state=42)\n",
    "kmeans_engagement.fit(engagement_normalized)\n",
    "\n",
    "# Task 4: K-means clustering for experience\n",
    "kmeans_experience = KMeans(n_clusters=3, random_state=42)\n",
    "kmeans_experience.fit(experience_normalized)\n",
    "\n",
    "# Task 5.1: Calculate engagement score for each user\n",
    "engagement_cluster_centroids = kmeans_engagement.cluster_centers_\n",
    "engagement_scores = np.sqrt(((engagement_normalized - engagement_cluster_centroids[0])**2).sum(axis=1))\n",
    "\n",
    "# Task 5.1: Calculate experience score for each user\n",
    "experience_cluster_centroids = kmeans_experience.cluster_centers_\n",
    "experience_scores = np.sqrt(((experience_normalized - experience_cluster_centroids[2])**2).sum(axis=1))\n",
    "\n",
    "# Task 5.2: Calculate satisfaction score\n",
    "satisfaction_scores = (engagement_scores + experience_scores) / 2\n",
    "\n",
    "satisfaction_df = pd.DataFrame({'MSISDN/Number': engagement_metrics.index, 'Satisfaction Score': satisfaction_scores})\n",
    "\n",
    "# Task 5.2: Top 10 satisfied customers\n",
    "top_10_satisfied_customers = satisfaction_df.nlargest(10, 'Satisfaction Score')\n",
    "\n",
    "# Output top 10 satisfied customers\n",
    "print(\"Top 10 Satisfied Customers:\")\n",
    "print(top_10_satisfied_customers)"
   ]
  },
  {
   "cell_type": "code",
   "execution_count": 24,
   "metadata": {},
   "outputs": [
    {
     "name": "stdout",
     "output_type": "stream",
     "text": [
      "    MSISDN/Number  Satisfaction Score\n",
      "0    3.360100e+10           12.456515\n",
      "1    3.360100e+10           12.775478\n",
      "2    3.360100e+10           12.503300\n",
      "3    3.360101e+10           12.909930\n",
      "4    3.360101e+10           11.974209\n",
      "5    3.360101e+10           12.058793\n",
      "6    3.360101e+10           11.926906\n",
      "7    3.360101e+10           12.782178\n",
      "8    3.360101e+10           12.156905\n",
      "9    3.360102e+10           12.391475\n",
      "10   3.360102e+10           12.811728\n",
      "11   3.360102e+10           12.472789\n",
      "12   3.360102e+10           12.472291\n",
      "13   3.360102e+10           12.542419\n",
      "14   3.360103e+10           12.667500\n",
      "15   3.360103e+10           12.834442\n",
      "16   3.360103e+10           12.522565\n",
      "17   3.360103e+10           12.543295\n",
      "18   3.360103e+10           12.612821\n",
      "19   3.360103e+10           12.467688\n",
      "20   3.360103e+10           12.138632\n",
      "21   3.360103e+10           11.558023\n",
      "22   3.360104e+10           12.624685\n",
      "23   3.360104e+10           12.868468\n",
      "24   3.360104e+10           12.707828\n",
      "25   3.360104e+10           12.571579\n",
      "26   3.360104e+10           12.514546\n",
      "27   3.360104e+10           12.679101\n",
      "28   3.360105e+10           12.761041\n",
      "29   3.360105e+10           12.515030\n",
      "30   3.360105e+10           12.746771\n",
      "31   3.360105e+10           12.301007\n",
      "32   3.360106e+10           12.279977\n",
      "33   3.360106e+10           11.897231\n",
      "34   3.360106e+10           12.141327\n",
      "35   3.360106e+10           12.506933\n",
      "36   3.360106e+10           12.679474\n",
      "37   3.360106e+10           11.810343\n",
      "38   3.360107e+10           12.375200\n",
      "39   3.360107e+10           12.672879\n",
      "40   3.360107e+10           12.836016\n",
      "41   3.360107e+10           12.741450\n",
      "42   3.360107e+10           11.793167\n",
      "43   3.360107e+10           11.561960\n",
      "44   3.360107e+10           11.809342\n",
      "45   3.360107e+10           12.238533\n",
      "46   3.360108e+10           12.508580\n",
      "47   3.360108e+10           12.521801\n",
      "48   3.360108e+10           11.781743\n",
      "49   3.360108e+10           12.951096\n"
     ]
    }
   ],
   "source": [
    "\n",
    "\n",
    "connection_string = f\"postgresql+psycopg2://{db_config['DATABASE_USER']}:{db_config['DATABASE_PASSWORD']}@{db_config['DATABASE_HOST']}:{db_config['DATABASE_PORT']}/{db_config['DATABASE_NAME']}\"\n",
    "engine = create_engine(connection_string)\n",
    "\n",
    "# Export satisfaction_df to MySQL database\n",
    "satisfaction_df.to_sql(name='user_satisfaction_scores', con=engine, if_exists='replace', index=False)\n",
    "\n",
    "# Example query \n",
    "query = \"SELECT * FROM user_satisfaction_scores LIMIT 50\"\n",
    "select_output = pd.read_sql(query, con=engine)\n",
    "print(select_output)\n"
   ]
  }
 ],
 "metadata": {
  "kernelspec": {
   "display_name": "Python 3",
   "language": "python",
   "name": "python3"
  },
  "language_info": {
   "codemirror_mode": {
    "name": "ipython",
    "version": 3
   },
   "file_extension": ".py",
   "mimetype": "text/x-python",
   "name": "python",
   "nbconvert_exporter": "python",
   "pygments_lexer": "ipython3",
   "version": "3.12.2"
  }
 },
 "nbformat": 4,
 "nbformat_minor": 2
}
